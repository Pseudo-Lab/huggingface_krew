{
  "cells": [
    {
      "cell_type": "markdown",
      "metadata": {
        "id": "7Xf2rlDPn3dy"
      },
      "source": [
        "---\n",
        "title: \"뉴스 기사의 감정분석하기\"\n",
        "author: \"양성모\"\n",
        "date: \"8/25/2023\"\n",
        "categories: [HuggingFace]\n",
        "---\n",
        "\n",
        "경제 기사의 감정을 평가하는 모델을 사용하는 방법을 정리합니다."
      ]
    },
    {
      "cell_type": "markdown",
      "metadata": {
        "id": "3GSIsKsmn3d1"
      },
      "source": [
        "# 시작하기 전에\n",
        "\n",
        "프로젝트는 transformers(ver. 4.28.0)와 tokenizer(ver. 0.13.3)를 사용했습니다. 문제가 발생하는 경우 버전을 확인하세요.\n"
      ]
    },
    {
      "cell_type": "markdown",
      "metadata": {
        "id": "kQ9a2uUGn3d2"
      },
      "source": [
        "# 뉴스 기사 감정 분석하기\n",
        "\n",
        "\n",
        "허깅페이스에는 테스크 목적과 모델의 언어에 따라 분류된 미세 조정 모델을 저장하고 있습니다. 이 모델을 이용하여 뉴스의 감정을 평가하는 모델을 사용하는 프로젝트를 연습합니다. transformer를 사용하기 위해서 transformer의 pipeline과 토크나이저를 가져옵니다."
      ]
    },
    {
      "cell_type": "code",
      "execution_count": null,
      "metadata": {
        "id": "N_6bdOqYn3d2"
      },
      "outputs": [],
      "source": [
        "!pip install transformers==4.28.0\n",
        "!pip install tokenizers==0.13.3\n",
        "!pip install sentensepiece\n",
        "from transformers import AutoTokenizer, pipeline"
      ]
    },
    {
      "cell_type": "markdown",
      "metadata": {
        "id": "Tq-3fRXZn3d3"
      },
      "source": [
        "토크나이저는 텍스트를 모델이 처리할 수 있는 데이터 형태로 변경합니다. 문자 형태의 입력은 토크나이저를 통해서 모델이 이해할 수 있는 숫자 형태로 변경되고 항상  모델에 맞는 토크나이저를 사용해야 합니다.\n",
        "\n",
        "토크나이저를 테스트 하기 위해 `xlm-reberta` 모델을 한국어 뉴스 데이터 셋으로 미세 조정한 체크포인트를 사용하겠습니다. 현서님이 작업한 체크포인트를 시작으로 다시 미세 조정을 수행했습니다.\n",
        "\n"
      ]
    },
    {
      "cell_type": "markdown",
      "metadata": {
        "id": "f5wiJne0n3d3"
      },
      "source": [
        "## 토크나이저"
      ]
    },
    {
      "cell_type": "markdown",
      "metadata": {
        "id": "LwVCJWiZn3d3"
      },
      "source": [
        "`AutoTokenizer`를 이용하면 트랜스포머 모델의 이름을 입력으로 사용하여 맞는 토크나이저를 선택할 수 있습니다. 아래와 같이 체크포인트 이름으로 모델에 맞는 토크나이저를 선택해보겠습니다"
      ]
    },
    {
      "cell_type": "code",
      "execution_count": 6,
      "metadata": {
        "id": "DrWs33H2n3d3"
      },
      "outputs": [],
      "source": [
        "model_name = 'gabrielyang/finance_news_classifier-KR_v7'\n",
        "tokenizer = AutoTokenizer.from_pretrained(model_name)"
      ]
    },
    {
      "cell_type": "markdown",
      "metadata": {
        "id": "7azFmgBnn3d4"
      },
      "source": [
        "만약 토크나이저 실행 시 `protobuf` 에러가 발생한다면 `pip install protobuf==3.20` 명령으로  3.20 버전으로 설치해보세요."
      ]
    },
    {
      "cell_type": "markdown",
      "metadata": {
        "id": "BGbuKZBYn3d4"
      },
      "source": [
        "::: {.callout-note}\n",
        "\n",
        "sentencepiece는 왜 설치가 필요할까요? \n",
        "[SentencePiece](https://github.com/google/sentencepiece)는 Google에서 2018년도에 공개한 오픈소스 라이브러리로, 단어를 구분하기 위해 공백을 사용한다는 가정으로 발생하는 문제를 해결하며 다양한 자연어처리 태스크에서 널리 사용되고 있습니다. \n",
        "\n",
        ":::"
      ]
    },
    {
      "cell_type": "markdown",
      "metadata": {
        "id": "KnRrFuaWn3d4"
      },
      "source": [
        "토크나이저를 이용해서 문자열이 어떻게 변경되는 지 확인합니다. 문자열을 토크나이저의 입력으로 전달합니다."
      ]
    },
    {
      "cell_type": "code",
      "execution_count": 7,
      "metadata": {
        "colab": {
          "base_uri": "https://localhost:8080/"
        },
        "id": "1EVeVjbIn3d4",
        "outputId": "5be13609-fbce-46a6-9a2e-f601fb747b67"
      },
      "outputs": [
        {
          "data": {
            "text/plain": [
              "50"
            ]
          },
          "execution_count": 7,
          "metadata": {},
          "output_type": "execute_result"
        }
      ],
      "source": [
        "input_text = \"\"\"급증하는 가계부채 부담에도 경기회복이 지연될 것이란 우려에 기준금리는 5회 연속 동결했다.\"\"\"\n",
        "len(input_text)"
      ]
    },
    {
      "cell_type": "markdown",
      "metadata": {
        "id": "CSLKepQLn3d5"
      },
      "source": [
        "len명령으로 글자가 50자임을 확인 했습니다. 토크나이저를 사용한 후 길이를 확인해보겠습니다."
      ]
    },
    {
      "cell_type": "code",
      "execution_count": 8,
      "metadata": {
        "colab": {
          "base_uri": "https://localhost:8080/",
          "height": 72
        },
        "id": "0aBuw3Q0n3d5",
        "outputId": "bb7fd92a-945d-4a1b-8750-203a8cab1363"
      },
      "outputs": [
        {
          "data": {
            "text/plain": [
              "{'input_ids': [0, 67448, 18128, 2123, 6081, 11931, 3614, 44115, 105494, 20584, 45376, 6192, 23224, 469, 6339, 7956, 24788, 10454, 15916, 165034, 480, 74108, 189792, 769, 190, 6192, 150813, 8354, 25354, 5476, 5, 2], 'attention_mask': [1, 1, 1, 1, 1, 1, 1, 1, 1, 1, 1, 1, 1, 1, 1, 1, 1, 1, 1, 1, 1, 1, 1, 1, 1, 1, 1, 1, 1, 1, 1, 1]}"
            ]
          },
          "metadata": {},
          "output_type": "display_data"
        },
        {
          "data": {
            "text/plain": [
              "32"
            ]
          },
          "metadata": {},
          "output_type": "display_data"
        }
      ],
      "source": [
        "input_ids = tokenizer(input_text)\n",
        "display(input_ids)\n",
        "display(len(input_ids['input_ids']))"
      ]
    },
    {
      "cell_type": "markdown",
      "metadata": {
        "id": "yu3bXvFKn3d5"
      },
      "source": [
        "출력은 'input_ids' 키를 갖는 숫자 리스트 형태로 리턴었고 길이는 32로 줄었습니다. 입력 ID(input ids)는 모델의 입력으로 전달되는 숫자 표현의 토큰 인덱스입니다."
      ]
    },
    {
      "cell_type": "markdown",
      "metadata": {
        "id": "YT5tTdrurPs7"
      },
      "source": [
        "## Pipeline"
      ]
    },
    {
      "cell_type": "markdown",
      "metadata": {
        "id": "rf6jM78hrm1r"
      },
      "source": [
        "파이프라인은 데이터를 전처리 및 변환하고 모델에서 예측을 반환하기 위해 특정 순서로 실행되는 일련의 단계를 나타내는 추상화입니다. 파이프라인에서 발견되는 몇 가지 예시 단계는 데이터 전처리, 특징 추출 및 정규화일 수 있습니다.\n",
        "\n",
        "문자열 입력을 모델에 사용하기 위해 필요한 토크나이저도 파이프라인에 포함되어 있기 때문에 아래의 코드에서는 문자열 입력을 추론으로 사용합니다."
      ]
    },
    {
      "cell_type": "code",
      "execution_count": 11,
      "metadata": {
        "id": "PLpG7j1Fn3d5"
      },
      "outputs": [],
      "source": [
        "model_name = 'gabrielyang/finance_news_classifier-KR_v7'\n",
        "classifier = pipeline(model=model_name)"
      ]
    },
    {
      "cell_type": "code",
      "execution_count": 13,
      "metadata": {
        "colab": {
          "base_uri": "https://localhost:8080/",
          "height": 35
        },
        "id": "_Zq2AtjvriG7",
        "outputId": "57543925-6f90-46da-8c14-6430178c6362"
      },
      "outputs": [
        {
          "data": {
            "application/vnd.google.colaboratory.intrinsic+json": {
              "type": "string"
            },
            "text/plain": [
              "'급증하는 가계부채 부담에도 경기회복이 지연될 것이란 우려에 기준금리는 5회 연속 동결했다.'"
            ]
          },
          "execution_count": 13,
          "metadata": {},
          "output_type": "execute_result"
        }
      ],
      "source": [
        "input_text"
      ]
    },
    {
      "cell_type": "code",
      "execution_count": 12,
      "metadata": {
        "colab": {
          "base_uri": "https://localhost:8080/"
        },
        "id": "S5NcHpL2pGWR",
        "outputId": "4c97e228-05b4-456f-b1b0-c33bb0a3c481"
      },
      "outputs": [
        {
          "data": {
            "text/plain": [
              "[{'label': 'negative', 'score': 0.9994288086891174}]"
            ]
          },
          "execution_count": 12,
          "metadata": {},
          "output_type": "execute_result"
        }
      ],
      "source": [
        "classifier(input_text)"
      ]
    },
    {
      "cell_type": "markdown",
      "metadata": {
        "id": "0ATRrj-VsA7Y"
      },
      "source": [
        "추론 결과는 딕셔너리 형태로 `label`정보와 `score`로 리턴됩니다. 입력 문자열은 `부정적`으로 판단되었습니다."
      ]
    }
  ],
  "metadata": {
    "colab": {
      "provenance": []
    },
    "kernelspec": {
      "display_name": ".venv",
      "language": "python",
      "name": "python3"
    },
    "language_info": {
      "codemirror_mode": {
        "name": "ipython",
        "version": 3
      },
      "file_extension": ".py",
      "mimetype": "text/x-python",
      "name": "python",
      "nbconvert_exporter": "python",
      "pygments_lexer": "ipython3",
      "version": "3.8.10"
    },
    "orig_nbformat": 4
  },
  "nbformat": 4,
  "nbformat_minor": 0
}
